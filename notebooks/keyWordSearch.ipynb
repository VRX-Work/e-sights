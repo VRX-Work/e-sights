{
 "cells": [
  {
   "cell_type": "code",
   "execution_count": 38,
   "metadata": {},
   "outputs": [
    {
     "name": "stdout",
     "output_type": "stream",
     "text": [
      "Connected to Elasticsearch!\n",
      "Successfully deleted index: emails\n"
     ]
    }
   ],
   "source": [
    "from elasticsearch import Elasticsearch, helpers\n",
    "import pandas as pd\n",
    "\n",
    "# Initialize Elasticsearch client\n",
    "es = Elasticsearch(\"http://localhost:9200/\")\n",
    "\n",
    "if es.ping():\n",
    "    print(\"Connected to Elasticsearch!\")\n",
    "    try:\n",
    "        response = es.indices.delete(index=\"emails\")\n",
    "        print(f\"Successfully deleted index: emails\")\n",
    "    except Exception as e:\n",
    "        print(f\"Error deleting index: {e}\")\n",
    "else:\n",
    "    print(\"Connection failed.\")"
   ]
  },
  {
   "cell_type": "code",
   "execution_count": 39,
   "metadata": {},
   "outputs": [
    {
     "data": {
      "text/plain": [
       "[{'Subject': 'Project Update',\n",
       "  'From': 'alice@orgA.com',\n",
       "  'To': 'bob@orgB.com',\n",
       "  'Date': '2024-01-02',\n",
       "  'Body': \"Hi Bob, I wanted to give you a quick update on our current project. Things are progressing well, and we're nearing the final stages of development. I think you'll be impressed with what we have in store. Let's catch up soon. Best, Alice\"},\n",
       " {'Subject': 'Re: Project Update',\n",
       "  'From': 'bob@orgB.com',\n",
       "  'To': 'alice@orgA.com',\n",
       "  'Date': '2024-01-03',\n",
       "  'Body': \"Hey Alice, Thanks for the update! I'm really looking forward to seeing the final product. Let's schedule a meeting next week to discuss potential collaborations. Cheers, Bob\"},\n",
       " {'Subject': 'Confidential: Design Specs',\n",
       "  'From': 'alice@orgA.com',\n",
       "  'To': 'bob@orgB.com',\n",
       "  'Date': '2024-01-04',\n",
       "  'Body': \"Bob, I've attached some preliminary design specs for the upcoming project. Please keep this under wraps as we are still finalizing details internally. Your insights would be invaluable, but let's keep this between us for now. Regards, Alice\"},\n",
       " {'Subject': 'HR Policy Changes',\n",
       "  'From': 'hr@orgA.com',\n",
       "  'To': 'all@orgA.com',\n",
       "  'Date': '2024-01-05',\n",
       "  'Body': 'Dear Team, We have updated our HR policies regarding remote work and vacation days. Please review the attached document and reach out if you have any questions. Best, HR Team'},\n",
       " {'Subject': 'Quick Question About Specs',\n",
       "  'From': 'bob@orgB.com',\n",
       "  'To': 'alice@orgA.com',\n",
       "  'Date': '2024-01-06',\n",
       "  'Body': \"Hi Alice, I had a question about the specs you sent over. Are there any specific features that you think might be a game changer? I'd love to hear your thoughts. Thanks! Bob\"},\n",
       " {'Subject': 'Re: Quick Question About Specs',\n",
       "  'From': 'alice@orgA.com',\n",
       "  'To': 'bob@orgB.com',\n",
       "  'Date': '2024-01-07',\n",
       "  'Body': 'Hey Bob, Absolutely! There are a few features that we believe will set us apart in the market. I can share more details if you promise to keep it discreet. Best, Alice'},\n",
       " {'Subject': 'Meeting Reminder: Project Sync-Up',\n",
       "  'From': 'carol@orgA.com',\n",
       "  'To': 'team@orgA.com',\n",
       "  'Date': '2024-01-08',\n",
       "  'Body': \"Hi Team, Just a reminder about our project sync-up tomorrow at 10 AM. Please come prepared with your updates and any blockers you're facing. Thanks, Carol\"},\n",
       " {'Subject': 'Re: Meeting Reminder: Project Sync-Up',\n",
       "  'From': 'dave@orgA.com',\n",
       "  'To': 'carol@orgA.com',\n",
       "  'Date': '2024-01-09',\n",
       "  'Body': \"Hi Carol, Looking forward to the meeting! I've been working on some innovative solutions that could enhance our project's performance metrics. I'll share them during the meeting. Best, Dave\"},\n",
       " {'Subject': 'Insider Info Needed ASAP',\n",
       "  'From': 'alice@orgA.com',\n",
       "  'To': 'bob@orgB.com',\n",
       "  'Date': '2024-01-10',\n",
       "  'Body': \"Bob, I need your expertise on something urgent. Can we discuss the latest market trends? I believe they could impact our upcoming launch significantly. Let me know when you're free. Alice\"},\n",
       " {'Subject': 'Re: Insider Info Needed ASAP',\n",
       "  'From': 'bob@orgB.com',\n",
       "  'To': 'alice@orgA.com',\n",
       "  'Date': '2024-01-11',\n",
       "  'Body': \"Sure Alice, I can provide some insights on that. Let's chat later today? I have some data that might be useful for your strategy. Cheers, Bob\"},\n",
       " {'Subject': 'Team Outing Plans!',\n",
       "  'From': 'emily@orgA.com',\n",
       "  'To': 'all@orgA.com',\n",
       "  'Date': '2024-01-12',\n",
       "  'Body': \"Hi Everyone, We're planning a team outing next month! Please fill out the attached survey to help us decide on activities and dates. Looking forward to everyone's input! Best, Emily\"},\n",
       " {'Subject': 'Project Milestone Achieved!',\n",
       "  'From': 'frank@orgA.com',\n",
       "  'To': 'team@orgA.com',\n",
       "  'Date': '2024-01-13',\n",
       "  'Body': \"Dear Team, I'm thrilled to announce that we have achieved a significant milestone in our project! Great job everyone! Let's keep up the momentum as we move into the next phase. Cheers, Frank\"},\n",
       " {'Subject': 'Market Analysis Request',\n",
       "  'From': 'alice@orgA.com',\n",
       "  'To': 'bob@orgB.com',\n",
       "  'Date': '2024-01-14',\n",
       "  'Body': 'Bob, Could you send me that market analysis report we discussed last week? It would really help us align our strategies moving forward. Thanks! Alice'},\n",
       " {'Subject': 'Re: Market Analysis Request',\n",
       "  'From': 'bob@orgB.com',\n",
       "  'To': 'alice@orgA.com',\n",
       "  'Date': '2024-01-15',\n",
       "  'Body': \"Hi Alice, Absolutely! I'll send it over shortly. It contains some sensitive information, so please handle it with care. Best, Bob\"},\n",
       " {'Subject': 'Reminder: Compliance Training Tomorrow!',\n",
       "  'From': 'hr@orgA.com',\n",
       "  'To': 'all@orgA.com',\n",
       "  'Date': '2024-01-16',\n",
       "  'Body': 'Dear Team, This is a reminder for compliance training scheduled for tomorrow at 2 PM. Attendance is mandatory. Please be on time. Thank you! HR Team'},\n",
       " {'Subject': 'Re: Compliance Training Tomorrow! ',\n",
       "  'From': 'jane@orgA.com ',\n",
       "  'To': 'hr@orgA.com ',\n",
       "  'Date': '2024-01-17 ',\n",
       "  'Body': \"Hi HR Team, I won't be able to attend due to a scheduling conflict. Is there any way I can catch up on what I missed? Thanks, jane \"},\n",
       " {'Subject': 'Confidential Insights Needed ',\n",
       "  'From': 'alice@orgA.com ',\n",
       "  'To': 'bob@orgB.com ',\n",
       "  'Date': '2024-01-18 ',\n",
       "  'Body': \"Hey Bob, I'm looking for some confidential insights regarding competitor strategies in light of recent market shifts. Your perspective would be invaluable here—let's keep this off the record, okay? Best, alice \"},\n",
       " {'Subject': 'Re: Confidential Insights Needed ',\n",
       "  'From': 'bob@orgB.com ',\n",
       "  'To': 'alice@orgA.com ',\n",
       "  'Date': '2024-01-19 ',\n",
       "  'Body': \"Of course, Alice! I'll compile some thoughts and send them your way shortly. Let's ensure we maintain discretion as always. Cheers, bob \"},\n",
       " {'Subject': 'Project Feedback Request ',\n",
       "  'From': 'carol@orgA.com ',\n",
       "  'To': 'team@orgA.com ',\n",
       "  'Date': '2024-01-20 ',\n",
       "  'Body': 'Hi Team, As we wrap up this phase of the project, I would appreciate your feedback on what worked well and what could be improved for next time. Please reply by Friday so we can incorporate your suggestions moving forward. Thanks! carol '},\n",
       " {'Subject': 'Re: Project Feedback Request ',\n",
       "  'From': 'dave@orgA.com ',\n",
       "  'To': 'carol@orgA.com ',\n",
       "  'Date': '2024-01-21 ',\n",
       "  'Body': 'Hi Carol, I think communication was key in our success this phase. However, I believe we could improve on documentation processes for future projects. Happy to discuss further! dave '},\n",
       " {'Subject': 'Urgent: Need Your Thoughts ',\n",
       "  'From': 'alice@orgA.com ',\n",
       "  'To': 'bob@orgB.com ',\n",
       "  'Date': '2024-01-22 ',\n",
       "  'Body': 'Bob, I need your thoughts on some sensitive topics regarding our upcoming launch strategy—specifically how we can position ourselves against competitors without drawing too much attention. Can we chat later today? alice '},\n",
       " {'Subject': 'Re: Urgent: Need Your Thoughts ',\n",
       "  'From': 'bob@orgB.com ',\n",
       "  'To': 'alice@orgA.com ',\n",
       "  'Date': '2024-01-23 ',\n",
       "  'Body': \"Absolutely, Alice! Let's discuss this in detail later today; it's crucial that we approach this carefully given the stakes involved. bob \"},\n",
       " {'Subject': 'Weekly Check-In Reminder ',\n",
       "  'From': 'emily@orgA.com ',\n",
       "  'To': 'team@orgA.com ',\n",
       "  'Date': '2024-01-24 ',\n",
       "  'Body': \"Hi Team, Just a reminder about our weekly check-in tomorrow at 11 AM. Bring any updates or concerns you'd like to discuss with the group! Looking forward to seeing everyone there! emily \"},\n",
       " {'Subject': 'Re: Weekly Check-In Reminder ',\n",
       "  'From': 'frank@orgA.com ',\n",
       "  'To': 'emily@orgA.com ',\n",
       "  'Date': '2024-01-25 ',\n",
       "  'Body': \"Thanks Emily! I'll make sure to prepare my updates regarding our progress on the current project phase—excited to share what we've accomplished so far! frank \"},\n",
       " {'Subject': 'Final Review Needed Before Launch ',\n",
       "  'From': 'alice@orgA.com ',\n",
       "  'To': 'bob@orgB.com ',\n",
       "  'Date': '2024-01-26 ',\n",
       "  'Body': \"Hey Bob, We're in the final review stages before launch and need your keen eye on a few details—especially regarding competitive positioning and market entry tactics. Can you help? Let's keep it discreet as always! alice \"},\n",
       " {'Subject': 'Re: Final Review Needed Before Launch ',\n",
       "  'From': 'bob@orgB.com ',\n",
       "  'To': 'alice@orgA.com ',\n",
       "  'Date': '2024-01-27 ',\n",
       "  'Body': \"Of course, Alice! I'll review everything and provide my feedback by tomorrow morning—let's ensure we're aligned for a successful launch! bob \"},\n",
       " {'Subject': 'Innovation Brainstorming Session Invite ',\n",
       "  'From': 'carol@orgA.com ',\n",
       "  'To': 'team@orgA.com ',\n",
       "  'Date': '2024-01-28 ',\n",
       "  'Body': 'Hello Team, You are invited to an innovation brainstorming session next week where we will explore new ideas for enhancing our project outcomes. Your input is vital! Please RSVP by Wednesday. best, carol '}]"
      ]
     },
     "execution_count": 39,
     "metadata": {},
     "output_type": "execute_result"
    }
   ],
   "source": [
    "# Sample email dataset\n",
    "emails = pd.read_csv(\"./data/sample.csv\")\n",
    "emails_formatted = emails.to_dict(orient='records') # Array of Dict\n",
    "emails_formatted"
   ]
  },
  {
   "cell_type": "code",
   "execution_count": 40,
   "metadata": {},
   "outputs": [
    {
     "data": {
      "text/plain": [
       "27"
      ]
     },
     "execution_count": 40,
     "metadata": {},
     "output_type": "execute_result"
    }
   ],
   "source": [
    "len(emails_formatted)"
   ]
  },
  {
   "cell_type": "code",
   "execution_count": 41,
   "metadata": {},
   "outputs": [],
   "source": [
    "def strip_email(email):\n",
    "    for key in email:\n",
    "        if isinstance(email[key], str):\n",
    "            email[key] = email[key].strip()\n",
    "    return email"
   ]
  },
  {
   "cell_type": "code",
   "execution_count": 42,
   "metadata": {},
   "outputs": [
    {
     "name": "stdout",
     "output_type": "stream",
     "text": [
      "Indexed document ID 1 with response: created\n",
      "Indexed document ID 2 with response: created\n",
      "Indexed document ID 3 with response: created\n",
      "Indexed document ID 4 with response: created\n",
      "Indexed document ID 5 with response: created\n",
      "Indexed document ID 6 with response: created\n",
      "Indexed document ID 7 with response: created\n",
      "Indexed document ID 8 with response: created\n",
      "Indexed document ID 9 with response: created\n",
      "Indexed document ID 10 with response: created\n",
      "Indexed document ID 11 with response: created\n",
      "Indexed document ID 12 with response: created\n",
      "Indexed document ID 13 with response: created\n",
      "Indexed document ID 14 with response: created\n",
      "Indexed document ID 15 with response: created\n",
      "Indexed document ID 16 with response: created\n",
      "Indexed document ID 17 with response: created\n",
      "Indexed document ID 18 with response: created\n",
      "Indexed document ID 19 with response: created\n",
      "Indexed document ID 20 with response: created\n",
      "Indexed document ID 21 with response: created\n",
      "Indexed document ID 22 with response: created\n",
      "Indexed document ID 23 with response: created\n",
      "Indexed document ID 24 with response: created\n",
      "Indexed document ID 25 with response: created\n",
      "Indexed document ID 26 with response: created\n",
      "Indexed document ID 27 with response: created\n"
     ]
    }
   ],
   "source": [
    "# Index emails into Elasticsearch\n",
    "def index_emails(emails):\n",
    "   for idx, email in enumerate(emails):\n",
    "      try:\n",
    "         response = es.index(index=\"emails\", id=idx+1, body=strip_email(email))\n",
    "         print(f\"Indexed document ID {response['_id']} with response: {response['result']}\")\n",
    "      except Exception as e:\n",
    "         print(\"Error on\", email)\n",
    "         raise ValueError(e)\n",
    "\n",
    "index_emails(emails_formatted)"
   ]
  },
  {
   "cell_type": "code",
   "execution_count": 43,
   "metadata": {},
   "outputs": [
    {
     "name": "stdout",
     "output_type": "stream",
     "text": [
      "Indexed documents:\n",
      "{\n",
      "  \"Subject\": \"Project Update\",\n",
      "  \"From\": \"alice@orgA.com\",\n",
      "  \"To\": \"bob@orgB.com\",\n",
      "  \"Date\": \"2024-01-02\",\n",
      "  \"Body\": \"Hi Bob, I wanted to give you a quick update on our current project. Things are progressing well, and we're nearing the final stages of development. I think you'll be impressed with what we have in store. Let's catch up soon. Best, Alice\"\n",
      "}\n",
      "{\n",
      "  \"Subject\": \"Re: Project Update\",\n",
      "  \"From\": \"bob@orgB.com\",\n",
      "  \"To\": \"alice@orgA.com\",\n",
      "  \"Date\": \"2024-01-03\",\n",
      "  \"Body\": \"Hey Alice, Thanks for the update! I'm really looking forward to seeing the final product. Let's schedule a meeting next week to discuss potential collaborations. Cheers, Bob\"\n",
      "}\n",
      "{\n",
      "  \"Subject\": \"Confidential: Design Specs\",\n",
      "  \"From\": \"alice@orgA.com\",\n",
      "  \"To\": \"bob@orgB.com\",\n",
      "  \"Date\": \"2024-01-04\",\n",
      "  \"Body\": \"Bob, I've attached some preliminary design specs for the upcoming project. Please keep this under wraps as we are still finalizing details internally. Your insights would be invaluable, but let's keep this between us for now. Regards, Alice\"\n",
      "}\n",
      "{\n",
      "  \"Subject\": \"HR Policy Changes\",\n",
      "  \"From\": \"hr@orgA.com\",\n",
      "  \"To\": \"all@orgA.com\",\n",
      "  \"Date\": \"2024-01-05\",\n",
      "  \"Body\": \"Dear Team, We have updated our HR policies regarding remote work and vacation days. Please review the attached document and reach out if you have any questions. Best, HR Team\"\n",
      "}\n",
      "{\n",
      "  \"Subject\": \"Quick Question About Specs\",\n",
      "  \"From\": \"bob@orgB.com\",\n",
      "  \"To\": \"alice@orgA.com\",\n",
      "  \"Date\": \"2024-01-06\",\n",
      "  \"Body\": \"Hi Alice, I had a question about the specs you sent over. Are there any specific features that you think might be a game changer? I'd love to hear your thoughts. Thanks! Bob\"\n",
      "}\n",
      "{\n",
      "  \"Subject\": \"Re: Quick Question About Specs\",\n",
      "  \"From\": \"alice@orgA.com\",\n",
      "  \"To\": \"bob@orgB.com\",\n",
      "  \"Date\": \"2024-01-07\",\n",
      "  \"Body\": \"Hey Bob, Absolutely! There are a few features that we believe will set us apart in the market. I can share more details if you promise to keep it discreet. Best, Alice\"\n",
      "}\n",
      "{\n",
      "  \"Subject\": \"Meeting Reminder: Project Sync-Up\",\n",
      "  \"From\": \"carol@orgA.com\",\n",
      "  \"To\": \"team@orgA.com\",\n",
      "  \"Date\": \"2024-01-08\",\n",
      "  \"Body\": \"Hi Team, Just a reminder about our project sync-up tomorrow at 10 AM. Please come prepared with your updates and any blockers you're facing. Thanks, Carol\"\n",
      "}\n",
      "{\n",
      "  \"Subject\": \"Re: Meeting Reminder: Project Sync-Up\",\n",
      "  \"From\": \"dave@orgA.com\",\n",
      "  \"To\": \"carol@orgA.com\",\n",
      "  \"Date\": \"2024-01-09\",\n",
      "  \"Body\": \"Hi Carol, Looking forward to the meeting! I've been working on some innovative solutions that could enhance our project's performance metrics. I'll share them during the meeting. Best, Dave\"\n",
      "}\n",
      "{\n",
      "  \"Subject\": \"Insider Info Needed ASAP\",\n",
      "  \"From\": \"alice@orgA.com\",\n",
      "  \"To\": \"bob@orgB.com\",\n",
      "  \"Date\": \"2024-01-10\",\n",
      "  \"Body\": \"Bob, I need your expertise on something urgent. Can we discuss the latest market trends? I believe they could impact our upcoming launch significantly. Let me know when you're free. Alice\"\n",
      "}\n",
      "{\n",
      "  \"Subject\": \"Re: Insider Info Needed ASAP\",\n",
      "  \"From\": \"bob@orgB.com\",\n",
      "  \"To\": \"alice@orgA.com\",\n",
      "  \"Date\": \"2024-01-11\",\n",
      "  \"Body\": \"Sure Alice, I can provide some insights on that. Let's chat later today? I have some data that might be useful for your strategy. Cheers, Bob\"\n",
      "}\n"
     ]
    }
   ],
   "source": [
    "import json\n",
    "# Optional: Verify indexed documents\n",
    "search_response = es.search(index=\"emails\", body={\"query\": {\"match_all\": {}}})\n",
    "print(\"Indexed documents:\")\n",
    "for hit in search_response['hits']['hits']:\n",
    "    print(json.dumps(hit[\"_source\"], indent=2))"
   ]
  },
  {
   "cell_type": "code",
   "execution_count": 44,
   "metadata": {},
   "outputs": [],
   "source": [
    "search_query = {\n",
    "    \"query\": {\n",
    "        \"match\": {\n",
    "            \"Body\": \"alice\"  # Searching for 'confidential' in the Body field\n",
    "        }\n",
    "    }\n",
    "}\n",
    "\n",
    "# Perform the search\n",
    "response = es.search(index=\"emails\", body=search_query)"
   ]
  },
  {
   "cell_type": "code",
   "execution_count": 45,
   "metadata": {},
   "outputs": [
    {
     "data": {
      "text/plain": [
       "10"
      ]
     },
     "execution_count": 45,
     "metadata": {},
     "output_type": "execute_result"
    }
   ],
   "source": [
    "len(response[\"hits\"][\"hits\"])"
   ]
  },
  {
   "cell_type": "code",
   "execution_count": 46,
   "metadata": {},
   "outputs": [
    {
     "name": "stdout",
     "output_type": "stream",
     "text": [
      "Search Results:\n",
      "ID: 14, Source: {'Subject': 'Re: Market Analysis Request', 'From': 'bob@orgB.com', 'To': 'alice@orgA.com', 'Date': '2024-01-15', 'Body': \"Hi Alice, Absolutely! I'll send it over shortly. It contains some sensitive information, so please handle it with care. Best, Bob\"}\n",
      "ID: 22, Source: {'Subject': 'Re: Urgent: Need Your Thoughts', 'From': 'bob@orgB.com', 'To': 'alice@orgA.com', 'Date': '2024-01-23', 'Body': \"Absolutely, Alice! Let's discuss this in detail later today; it's crucial that we approach this carefully given the stakes involved. bob\"}\n",
      "ID: 18, Source: {'Subject': 'Re: Confidential Insights Needed', 'From': 'bob@orgB.com', 'To': 'alice@orgA.com', 'Date': '2024-01-19', 'Body': \"Of course, Alice! I'll compile some thoughts and send them your way shortly. Let's ensure we maintain discretion as always. Cheers, bob\"}\n",
      "ID: 26, Source: {'Subject': 'Re: Final Review Needed Before Launch', 'From': 'bob@orgB.com', 'To': 'alice@orgA.com', 'Date': '2024-01-27', 'Body': \"Of course, Alice! I'll review everything and provide my feedback by tomorrow morning—let's ensure we're aligned for a successful launch! bob\"}\n",
      "ID: 13, Source: {'Subject': 'Market Analysis Request', 'From': 'alice@orgA.com', 'To': 'bob@orgB.com', 'Date': '2024-01-14', 'Body': 'Bob, Could you send me that market analysis report we discussed last week? It would really help us align our strategies moving forward. Thanks! Alice'}\n",
      "ID: 10, Source: {'Subject': 'Re: Insider Info Needed ASAP', 'From': 'bob@orgB.com', 'To': 'alice@orgA.com', 'Date': '2024-01-11', 'Body': \"Sure Alice, I can provide some insights on that. Let's chat later today? I have some data that might be useful for your strategy. Cheers, Bob\"}\n",
      "ID: 2, Source: {'Subject': 'Re: Project Update', 'From': 'bob@orgB.com', 'To': 'alice@orgA.com', 'Date': '2024-01-03', 'Body': \"Hey Alice, Thanks for the update! I'm really looking forward to seeing the final product. Let's schedule a meeting next week to discuss potential collaborations. Cheers, Bob\"}\n",
      "ID: 9, Source: {'Subject': 'Insider Info Needed ASAP', 'From': 'alice@orgA.com', 'To': 'bob@orgB.com', 'Date': '2024-01-10', 'Body': \"Bob, I need your expertise on something urgent. Can we discuss the latest market trends? I believe they could impact our upcoming launch significantly. Let me know when you're free. Alice\"}\n",
      "ID: 6, Source: {'Subject': 'Re: Quick Question About Specs', 'From': 'alice@orgA.com', 'To': 'bob@orgB.com', 'Date': '2024-01-07', 'Body': 'Hey Bob, Absolutely! There are a few features that we believe will set us apart in the market. I can share more details if you promise to keep it discreet. Best, Alice'}\n",
      "ID: 17, Source: {'Subject': 'Confidential Insights Needed', 'From': 'alice@orgA.com', 'To': 'bob@orgB.com', 'Date': '2024-01-18', 'Body': \"Hey Bob, I'm looking for some confidential insights regarding competitor strategies in light of recent market shifts. Your perspective would be invaluable here—let's keep this off the record, okay? Best, alice\"}\n"
     ]
    }
   ],
   "source": [
    "print(\"Search Results:\")\n",
    "for hit in response['hits']['hits']:\n",
    "    print(f\"ID: {hit['_id']}, Source: {hit['_source']}\")"
   ]
  }
 ],
 "metadata": {
  "kernelspec": {
   "display_name": "intella",
   "language": "python",
   "name": "python3"
  },
  "language_info": {
   "codemirror_mode": {
    "name": "ipython",
    "version": 3
   },
   "file_extension": ".py",
   "mimetype": "text/x-python",
   "name": "python",
   "nbconvert_exporter": "python",
   "pygments_lexer": "ipython3",
   "version": "3.11.11"
  }
 },
 "nbformat": 4,
 "nbformat_minor": 2
}
