{
 "cells": [
  {
   "cell_type": "markdown",
   "metadata": {},
   "source": [
    "# Setting Up Elasticsearch"
   ]
  },
  {
   "cell_type": "code",
   "execution_count": null,
   "metadata": {
    "execution": {
     "iopub.execute_input": "2024-12-11T07:10:21.126194Z",
     "iopub.status.busy": "2024-12-11T07:10:21.125890Z",
     "iopub.status.idle": "2024-12-11T07:10:31.533831Z",
     "shell.execute_reply": "2024-12-11T07:10:31.532774Z",
     "shell.execute_reply.started": "2024-12-11T07:10:21.126156Z"
    },
    "trusted": true
   },
   "outputs": [],
   "source": [
    "!pip install elasticsearch"
   ]
  },
  {
   "cell_type": "markdown",
   "metadata": {},
   "source": [
    "## Installation"
   ]
  },
  {
   "cell_type": "code",
   "execution_count": null,
   "metadata": {
    "execution": {
     "iopub.execute_input": "2024-12-11T07:10:31.536761Z",
     "iopub.status.busy": "2024-12-11T07:10:31.536365Z",
     "iopub.status.idle": "2024-12-11T07:11:24.716798Z",
     "shell.execute_reply": "2024-12-11T07:11:24.715656Z",
     "shell.execute_reply.started": "2024-12-11T07:10:31.536721Z"
    },
    "trusted": true
   },
   "outputs": [],
   "source": [
    "!wget https://artifacts.elastic.co/downloads/elasticsearch/elasticsearch-8.16.1-linux-x86_64.tar.gz -q\n",
    "!tar -xzf elasticsearch-8.16.1-linux-x86_64.tar.gz\n",
    "!chown -R daemon:daemon elasticsearch-8.16.1"
   ]
  },
  {
   "cell_type": "markdown",
   "metadata": {},
   "source": [
    "## Starting Service"
   ]
  },
  {
   "cell_type": "code",
   "execution_count": null,
   "metadata": {
    "execution": {
     "iopub.execute_input": "2024-12-11T07:11:24.718737Z",
     "iopub.status.busy": "2024-12-11T07:11:24.718355Z",
     "iopub.status.idle": "2024-12-11T07:11:24.732726Z",
     "shell.execute_reply": "2024-12-11T07:11:24.731484Z",
     "shell.execute_reply.started": "2024-12-11T07:11:24.718707Z"
    },
    "trusted": true
   },
   "outputs": [],
   "source": [
    "# Creating daemon instance of elasticsearch\n",
    "import os\n",
    "from subprocess import Popen, PIPE, STDOUT\n",
    "es_server = Popen(['elasticsearch-8.16.1/bin/elasticsearch'], \n",
    "                  stdout=PIPE, stderr=STDOUT,\n",
    "                  preexec_fn=lambda: os.setuid(1)  # as daemon\n",
    "                 )"
   ]
  },
  {
   "cell_type": "code",
   "execution_count": null,
   "metadata": {
    "execution": {
     "iopub.execute_input": "2024-12-11T07:11:24.735241Z",
     "iopub.status.busy": "2024-12-11T07:11:24.734536Z",
     "iopub.status.idle": "2024-12-11T07:11:54.774578Z",
     "shell.execute_reply": "2024-12-11T07:11:54.773367Z",
     "shell.execute_reply.started": "2024-12-11T07:11:24.735126Z"
    },
    "trusted": true
   },
   "outputs": [],
   "source": [
    "import time\n",
    "time.sleep(30)"
   ]
  },
  {
   "cell_type": "code",
   "execution_count": null,
   "metadata": {
    "execution": {
     "iopub.execute_input": "2024-12-11T07:14:39.488578Z",
     "iopub.status.busy": "2024-12-11T07:14:39.488222Z",
     "iopub.status.idle": "2024-12-11T07:14:40.541884Z",
     "shell.execute_reply": "2024-12-11T07:14:40.540966Z",
     "shell.execute_reply.started": "2024-12-11T07:14:39.488545Z"
    },
    "trusted": true
   },
   "outputs": [],
   "source": [
    "!ps -ef | grep elasticsearch"
   ]
  },
  {
   "cell_type": "markdown",
   "metadata": {},
   "source": [
    "## Elasticsearch YML"
   ]
  },
  {
   "cell_type": "markdown",
   "metadata": {},
   "source": [
    "### Modify YML to turn off Safe Mode"
   ]
  },
  {
   "cell_type": "code",
   "execution_count": null,
   "metadata": {
    "execution": {
     "iopub.execute_input": "2024-12-11T07:11:55.999704Z",
     "iopub.status.busy": "2024-12-11T07:11:55.999277Z",
     "iopub.status.idle": "2024-12-11T07:11:57.152828Z",
     "shell.execute_reply": "2024-12-11T07:11:57.151337Z",
     "shell.execute_reply.started": "2024-12-11T07:11:55.999672Z"
    },
    "trusted": true
   },
   "outputs": [],
   "source": [
    "new_yml = \"\"\"# ======================== Elasticsearch Configuration =========================\n",
    "#\n",
    "# NOTE: Elasticsearch comes with reasonable defaults for most settings.\n",
    "#       Before you set out to tweak and tune the configuration, make sure you\n",
    "#       understand what are you trying to accomplish and the consequences.\n",
    "#\n",
    "# The primary way of configuring a node is via this file. This template lists\n",
    "# the most important settings you may want to configure for a production cluster.\n",
    "#\n",
    "# Please consult the documentation for further information on configuration options:\n",
    "# https://www.elastic.co/guide/en/elasticsearch/reference/index.html\n",
    "#\n",
    "# ---------------------------------- Cluster -----------------------------------\n",
    "#\n",
    "# Use a descriptive name for your cluster:\n",
    "#\n",
    "#cluster.name: my-application\n",
    "#\n",
    "# ------------------------------------ Node ------------------------------------\n",
    "#\n",
    "# Use a descriptive name for the node:\n",
    "#\n",
    "#node.name: node-1\n",
    "#\n",
    "# Add custom attributes to the node:\n",
    "#\n",
    "#node.attr.rack: r1\n",
    "#\n",
    "# ----------------------------------- Paths ------------------------------------\n",
    "#\n",
    "# Path to directory where to store the data (separate multiple locations by comma):\n",
    "#\n",
    "#path.data: /path/to/data\n",
    "#\n",
    "# Path to log files:\n",
    "#\n",
    "#path.logs: /path/to/logs\n",
    "#\n",
    "# ----------------------------------- Memory -----------------------------------\n",
    "#\n",
    "# Lock the memory on startup:\n",
    "#\n",
    "#bootstrap.memory_lock: true\n",
    "#\n",
    "# Make sure that the heap size is set to about half the memory available\n",
    "# on the system and that the owner of the process is allowed to use this\n",
    "# limit.\n",
    "#\n",
    "# Elasticsearch performs poorly when the system is swapping the memory.\n",
    "#\n",
    "# ---------------------------------- Network -----------------------------------\n",
    "#\n",
    "# By default Elasticsearch is only accessible on localhost. Set a different\n",
    "# address here to expose this node on the network:\n",
    "#\n",
    "#network.host: 192.168.0.1\n",
    "#\n",
    "# By default Elasticsearch listens for HTTP traffic on the first free port it\n",
    "# finds starting at 9200. Set a specific HTTP port here:\n",
    "#\n",
    "#http.port: 9200\n",
    "#\n",
    "# For more information, consult the network module documentation.\n",
    "#\n",
    "# --------------------------------- Discovery ----------------------------------\n",
    "#\n",
    "# Pass an initial list of hosts to perform discovery when this node is started:\n",
    "# The default list of hosts is [\"127.0.0.1\", \"[::1]\"]\n",
    "#\n",
    "#discovery.seed_hosts: [\"host1\", \"host2\"]\n",
    "#\n",
    "# Bootstrap the cluster using an initial set of master-eligible nodes:\n",
    "#\n",
    "#cluster.initial_master_nodes: [\"node-1\", \"node-2\"]\n",
    "#\n",
    "# For more information, consult the discovery and cluster formation module documentation.\n",
    "#\n",
    "# ---------------------------------- Various -----------------------------------\n",
    "#\n",
    "# Allow wildcard deletion of indices:\n",
    "#\n",
    "#action.destructive_requires_name: false\n",
    "\n",
    "#----------------------- BEGIN SECURITY AUTO CONFIGURATION -----------------------\n",
    "#\n",
    "# The following settings, TLS certificates, and keys have been automatically      \n",
    "# generated to configure Elasticsearch security features on 11-12-2024 05:30:04\n",
    "#\n",
    "# --------------------------------------------------------------------------------\n",
    "\n",
    "# Enable security features\n",
    "xpack.security.enabled: false\n",
    "\n",
    "xpack.security.enrollment.enabled: false\n",
    "\n",
    "# Enable encryption for HTTP API client connections, such as Kibana, Logstash, and Agents\n",
    "xpack.security.http.ssl:\n",
    "  enabled: false\n",
    "  keystore.path: certs/http.p12\n",
    "\n",
    "# Enable encryption and mutual authentication between cluster nodes\n",
    "xpack.security.transport.ssl:\n",
    "  enabled: false\n",
    "  verification_mode: certificate\n",
    "  keystore.path: certs/transport.p12\n",
    "  truststore.path: certs/transport.p12\n",
    "# Create a new cluster with the current node only\n",
    "# Additional nodes can still join the cluster later\n",
    "cluster.initial_master_nodes: [\"63410036aadd\"]\n",
    "\n",
    "# Allow HTTP API connections from anywhere\n",
    "# Connections are encrypted and require user authentication\n",
    "http.host: 0.0.0.0\n",
    "\n",
    "# Allow other nodes to join the cluster from anywhere\n",
    "# Connections are encrypted and mutually authenticated\n",
    "#transport.host: 0.0.0.0\n",
    "\n",
    "#----------------------- END SECURITY AUTO CONFIGURATION -------------------------\"\"\"\n",
    "\n",
    "old_yml = open(\"/kaggle/working/elasticsearch-8.16.1/config/elasticsearch.yml\", \"w\")\n",
    "old_yml.write(new_yml)\n",
    "old_yml.close()\n",
    "!tail -n 25 \"/kaggle/working/elasticsearch-8.16.1/config/elasticsearch.yml\" | tac"
   ]
  },
  {
   "cell_type": "code",
   "execution_count": null,
   "metadata": {
    "execution": {
     "iopub.execute_input": "2024-12-11T07:17:37.846014Z",
     "iopub.status.busy": "2024-12-11T07:17:37.845139Z",
     "iopub.status.idle": "2024-12-11T07:17:38.919093Z",
     "shell.execute_reply": "2024-12-11T07:17:38.917988Z",
     "shell.execute_reply.started": "2024-12-11T07:17:37.845978Z"
    },
    "trusted": true
   },
   "outputs": [],
   "source": [
    "!tail -n 25 \"/kaggle/working/elasticsearch-8.16.1/config/elasticsearch.yml\" | tac"
   ]
  },
  {
   "cell_type": "markdown",
   "metadata": {},
   "source": [
    "## Restart Process After Modification"
   ]
  },
  {
   "cell_type": "code",
   "execution_count": null,
   "metadata": {
    "execution": {
     "iopub.execute_input": "2024-12-11T07:16:24.013754Z",
     "iopub.status.busy": "2024-12-11T07:16:24.010909Z",
     "iopub.status.idle": "2024-12-11T07:16:24.021677Z",
     "shell.execute_reply": "2024-12-11T07:16:24.020282Z",
     "shell.execute_reply.started": "2024-12-11T07:16:24.013703Z"
    },
    "trusted": true
   },
   "outputs": [],
   "source": [
    "es_server.terminate()\n",
    "# es_server.wait()  # Wait for the process to fully terminate"
   ]
  },
  {
   "cell_type": "code",
   "execution_count": null,
   "metadata": {
    "execution": {
     "iopub.execute_input": "2024-12-11T07:16:41.420691Z",
     "iopub.status.busy": "2024-12-11T07:16:41.420350Z",
     "iopub.status.idle": "2024-12-11T07:16:41.436822Z",
     "shell.execute_reply": "2024-12-11T07:16:41.435543Z",
     "shell.execute_reply.started": "2024-12-11T07:16:41.420663Z"
    },
    "trusted": true
   },
   "outputs": [],
   "source": [
    "es_server = Popen(['elasticsearch-8.16.1/bin/elasticsearch'], \n",
    "                  stdout=PIPE, stderr=STDOUT,\n",
    "                  preexec_fn=lambda: os.setuid(1)  # as daemon\n",
    "                 )"
   ]
  },
  {
   "cell_type": "code",
   "execution_count": null,
   "metadata": {
    "execution": {
     "iopub.status.busy": "2024-12-11T07:14:30.474827Z",
     "iopub.status.idle": "2024-12-11T07:14:30.475316Z",
     "shell.execute_reply": "2024-12-11T07:14:30.475067Z",
     "shell.execute_reply.started": "2024-12-11T07:14:30.475043Z"
    },
    "trusted": true
   },
   "outputs": [],
   "source": [
    "time.sleep(30)"
   ]
  },
  {
   "cell_type": "code",
   "execution_count": null,
   "metadata": {
    "execution": {
     "iopub.execute_input": "2024-12-11T07:16:52.314348Z",
     "iopub.status.busy": "2024-12-11T07:16:52.313888Z",
     "iopub.status.idle": "2024-12-11T07:16:53.674121Z",
     "shell.execute_reply": "2024-12-11T07:16:53.672888Z",
     "shell.execute_reply.started": "2024-12-11T07:16:52.314295Z"
    },
    "trusted": true
   },
   "outputs": [],
   "source": [
    "!ps -ef | grep elasticsearch"
   ]
  },
  {
   "cell_type": "code",
   "execution_count": null,
   "metadata": {
    "execution": {
     "iopub.execute_input": "2024-12-11T07:17:45.708048Z",
     "iopub.status.busy": "2024-12-11T07:17:45.707249Z",
     "iopub.status.idle": "2024-12-11T07:17:46.814393Z",
     "shell.execute_reply": "2024-12-11T07:17:46.813509Z",
     "shell.execute_reply.started": "2024-12-11T07:17:45.708012Z"
    },
    "trusted": true
   },
   "outputs": [],
   "source": [
    "!curl localhost:9200 # Elasticsearch Started"
   ]
  },
  {
   "cell_type": "markdown",
   "metadata": {},
   "source": [
    "# KeyWord Search Section"
   ]
  },
  {
   "cell_type": "code",
   "execution_count": null,
   "metadata": {
    "execution": {
     "iopub.execute_input": "2024-12-11T07:18:03.223552Z",
     "iopub.status.busy": "2024-12-11T07:18:03.222371Z",
     "iopub.status.idle": "2024-12-11T07:18:05.340427Z",
     "shell.execute_reply": "2024-12-11T07:18:05.339418Z",
     "shell.execute_reply.started": "2024-12-11T07:18:03.223510Z"
    },
    "trusted": true
   },
   "outputs": [],
   "source": [
    "from elasticsearch import Elasticsearch, helpers\n",
    "import pandas as pd\n",
    "\n",
    "# Initialize Elasticsearch client\n",
    "es = Elasticsearch(\"http://localhost:9200/\")\n",
    "\n",
    "if es.ping():\n",
    "    print(\"Connected to Elasticsearch!\")\n",
    "    try:\n",
    "        response = es.indices.delete(index=\"emails\")\n",
    "        print(f\"Successfully deleted index: emails\")\n",
    "    except Exception as e:\n",
    "        print(f\"Error deleting index/Index not found: {e}\")\n",
    "else:\n",
    "    print(\"Connection failed.\")"
   ]
  },
  {
   "cell_type": "code",
   "execution_count": null,
   "metadata": {
    "execution": {
     "iopub.execute_input": "2024-12-11T07:18:17.065760Z",
     "iopub.status.busy": "2024-12-11T07:18:17.065227Z",
     "iopub.status.idle": "2024-12-11T07:18:17.108596Z",
     "shell.execute_reply": "2024-12-11T07:18:17.107707Z",
     "shell.execute_reply.started": "2024-12-11T07:18:17.065728Z"
    },
    "trusted": true
   },
   "outputs": [],
   "source": [
    "emails = pd.read_csv(\"/kaggle/input/esights-sample-1/set1_better.csv\").fillna(\"\") # Index cannot parse nan\n",
    "email_dict = emails.to_dict(orient='records')\n",
    "print(email_dict[0].keys(), len(email_dict))"
   ]
  },
  {
   "cell_type": "code",
   "execution_count": null,
   "metadata": {
    "execution": {
     "iopub.execute_input": "2024-12-11T07:18:17.110266Z",
     "iopub.status.busy": "2024-12-11T07:18:17.109989Z",
     "iopub.status.idle": "2024-12-11T07:18:17.114411Z",
     "shell.execute_reply": "2024-12-11T07:18:17.113702Z",
     "shell.execute_reply.started": "2024-12-11T07:18:17.110238Z"
    },
    "trusted": true
   },
   "outputs": [],
   "source": [
    "def strip_email(email):\n",
    "    \"\"\"To strip trailing spaces that may break the indexing\"\"\"\n",
    "    for key in email:\n",
    "        if isinstance(email[key], str):\n",
    "            email[key] = email[key].strip()\n",
    "    return email"
   ]
  },
  {
   "cell_type": "markdown",
   "metadata": {},
   "source": [
    "## Creating Search Index"
   ]
  },
  {
   "cell_type": "code",
   "execution_count": null,
   "metadata": {
    "execution": {
     "iopub.execute_input": "2024-12-11T07:18:17.116300Z",
     "iopub.status.busy": "2024-12-11T07:18:17.115932Z",
     "iopub.status.idle": "2024-12-11T07:18:17.850802Z",
     "shell.execute_reply": "2024-12-11T07:18:17.849815Z",
     "shell.execute_reply.started": "2024-12-11T07:18:17.116261Z"
    },
    "trusted": true
   },
   "outputs": [],
   "source": [
    "# Index emails into Elasticsearch\n",
    "def index_emails(emails):\n",
    "   for idx, email in enumerate(emails):\n",
    "      try:\n",
    "         response = es.index(index=\"emails\", id=idx+1, body=strip_email(email))\n",
    "         print(f\"Indexed document ID {response['_id']} with response: {response['result']}\")\n",
    "      except Exception as e:\n",
    "         print(\"Error on\", email)\n",
    "         raise ValueError(e)\n",
    "\n",
    "index_emails(email_dict)"
   ]
  },
  {
   "cell_type": "code",
   "execution_count": null,
   "metadata": {
    "execution": {
     "iopub.execute_input": "2024-12-11T07:21:50.173502Z",
     "iopub.status.busy": "2024-12-11T07:21:50.173115Z",
     "iopub.status.idle": "2024-12-11T07:21:50.292310Z",
     "shell.execute_reply": "2024-12-11T07:21:50.291384Z",
     "shell.execute_reply.started": "2024-12-11T07:21:50.173454Z"
    },
    "trusted": true
   },
   "outputs": [],
   "source": [
    "search_query ={\n",
    "  \"query\": {\n",
    "    \"bool\": {\n",
    "      \"should\": [\n",
    "        {\n",
    "          \"match\": {\n",
    "            \"Mail_Body\": {\n",
    "              \"query\": \"Pushpam isn't in office today\",\n",
    "              \"fuzziness\": \"AUTO\"\n",
    "            }\n",
    "          },\n",
    "        }\n",
    "      ]\n",
    "    }\n",
    "  }\n",
    "} # Fuzzy search\n",
    "\n",
    "# Perform the search\n",
    "response = es.search(index=\"emails\", body=search_query)"
   ]
  },
  {
   "cell_type": "code",
   "execution_count": null,
   "metadata": {
    "execution": {
     "iopub.execute_input": "2024-12-11T07:21:51.366124Z",
     "iopub.status.busy": "2024-12-11T07:21:51.365782Z",
     "iopub.status.idle": "2024-12-11T07:21:51.371984Z",
     "shell.execute_reply": "2024-12-11T07:21:51.371013Z",
     "shell.execute_reply.started": "2024-12-11T07:21:51.366093Z"
    },
    "trusted": true
   },
   "outputs": [],
   "source": [
    "len(response[\"hits\"][\"hits\"])"
   ]
  },
  {
   "cell_type": "code",
   "execution_count": null,
   "metadata": {
    "execution": {
     "iopub.execute_input": "2024-12-11T07:21:53.332173Z",
     "iopub.status.busy": "2024-12-11T07:21:53.331822Z",
     "iopub.status.idle": "2024-12-11T07:21:53.339218Z",
     "shell.execute_reply": "2024-12-11T07:21:53.338397Z",
     "shell.execute_reply.started": "2024-12-11T07:21:53.332140Z"
    },
    "trusted": true
   },
   "outputs": [],
   "source": [
    "top_3 = [response[\"_source\"] for response in response[\"hits\"][\"hits\"][:3]]\n",
    "top_3"
   ]
  },
  {
   "cell_type": "markdown",
   "metadata": {},
   "source": [
    "## Save Index"
   ]
  },
  {
   "cell_type": "code",
   "execution_count": null,
   "metadata": {},
   "outputs": [],
   "source": [
    "from elasticsearch.helpers import scan\n",
    "import json\n",
    "\n",
    "index_name = \"emails\"\n",
    "results = es.search(index=index_name, body={\"query\": {\"match_all\": {}}, \"size\": 10000})['hits']['hits']\n",
    "\n",
    "with open(\"index_set_1_elastic.json\", 'w') as f:\n",
    "        json.dump(results, f)"
   ]
  },
  {
   "cell_type": "markdown",
   "metadata": {},
   "source": [
    "## Load Index"
   ]
  },
  {
   "cell_type": "code",
   "execution_count": null,
   "metadata": {},
   "outputs": [],
   "source": [
    "from elasticsearch.helpers import bulk\n",
    "\n",
    "with open(\"/kaggle/working/index_set_1_elastic.json\") as f:\n",
    "    documents = json.load(f)\n",
    "\n",
    "    actions = [\n",
    "        {\n",
    "            \"_index\": index_name, # index name\n",
    "            \"_id\": doc['_id'],\n",
    "            \"_source\": doc['_source']\n",
    "        }\n",
    "        for doc in documents\n",
    "    ]\n",
    "    bulk(es, actions)"
   ]
  },
  {
   "cell_type": "markdown",
   "metadata": {},
   "source": [
    "# Semantic Search"
   ]
  },
  {
   "cell_type": "code",
   "execution_count": null,
   "metadata": {
    "execution": {
     "iopub.execute_input": "2024-12-11T07:18:17.973188Z",
     "iopub.status.busy": "2024-12-11T07:18:17.972501Z",
     "iopub.status.idle": "2024-12-11T07:18:29.644896Z",
     "shell.execute_reply": "2024-12-11T07:18:29.643717Z",
     "shell.execute_reply.started": "2024-12-11T07:18:17.973135Z"
    },
    "trusted": true
   },
   "outputs": [],
   "source": [
    "!pip install faiss-cpu sentence-transformers"
   ]
  },
  {
   "cell_type": "code",
   "execution_count": null,
   "metadata": {
    "execution": {
     "iopub.execute_input": "2024-12-11T07:18:29.646720Z",
     "iopub.status.busy": "2024-12-11T07:18:29.646383Z",
     "iopub.status.idle": "2024-12-11T07:18:29.653883Z",
     "shell.execute_reply": "2024-12-11T07:18:29.652956Z",
     "shell.execute_reply.started": "2024-12-11T07:18:29.646691Z"
    },
    "trusted": true
   },
   "outputs": [],
   "source": [
    "email_docs = [str(email).replace(\"\\'\", '\"').replace('\"\"', '\"') for email in email_dict]\n",
    "email_docs[:3]"
   ]
  },
  {
   "cell_type": "markdown",
   "metadata": {},
   "source": [
    "## Generating Embeddings"
   ]
  },
  {
   "cell_type": "code",
   "execution_count": null,
   "metadata": {
    "execution": {
     "iopub.execute_input": "2024-12-11T07:18:29.655141Z",
     "iopub.status.busy": "2024-12-11T07:18:29.654901Z",
     "iopub.status.idle": "2024-12-11T07:21:39.231286Z",
     "shell.execute_reply": "2024-12-11T07:21:39.230293Z",
     "shell.execute_reply.started": "2024-12-11T07:18:29.655117Z"
    },
    "trusted": true
   },
   "outputs": [],
   "source": [
    "import faiss\n",
    "from sentence_transformers import SentenceTransformer\n",
    "\n",
    "model = SentenceTransformer(\"dunzhang/stella_en_1.5B_v5\", trust_remote_code=True, device=\"cuda\")"
   ]
  },
  {
   "cell_type": "code",
   "execution_count": null,
   "metadata": {
    "execution": {
     "iopub.execute_input": "2024-12-11T07:22:38.629076Z",
     "iopub.status.busy": "2024-12-11T07:22:38.628067Z",
     "iopub.status.idle": "2024-12-11T07:22:46.945500Z",
     "shell.execute_reply": "2024-12-11T07:22:46.944515Z",
     "shell.execute_reply.started": "2024-12-11T07:22:38.629013Z"
    },
    "trusted": true
   },
   "outputs": [],
   "source": [
    "email_embeddings = model.encode(email_docs)"
   ]
  },
  {
   "cell_type": "code",
   "execution_count": null,
   "metadata": {
    "execution": {
     "iopub.execute_input": "2024-12-11T07:23:58.383120Z",
     "iopub.status.busy": "2024-12-11T07:23:58.382636Z",
     "iopub.status.idle": "2024-12-11T07:23:58.388407Z",
     "shell.execute_reply": "2024-12-11T07:23:58.387433Z",
     "shell.execute_reply.started": "2024-12-11T07:23:58.383075Z"
    },
    "trusted": true
   },
   "outputs": [],
   "source": [
    "print(\"Documents\", len(email_embeddings), \"Dimensions\", len(email_embeddings[0]))"
   ]
  },
  {
   "cell_type": "markdown",
   "metadata": {},
   "source": [
    "## Creating Vectorstore Index"
   ]
  },
  {
   "cell_type": "code",
   "execution_count": null,
   "metadata": {
    "execution": {
     "iopub.execute_input": "2024-12-11T07:26:05.236728Z",
     "iopub.status.busy": "2024-12-11T07:26:05.236005Z",
     "iopub.status.idle": "2024-12-11T07:26:05.252090Z",
     "shell.execute_reply": "2024-12-11T07:26:05.251273Z",
     "shell.execute_reply.started": "2024-12-11T07:26:05.236689Z"
    },
    "trusted": true
   },
   "outputs": [],
   "source": [
    "dimension = email_embeddings.shape[1]\n",
    "index = faiss.IndexFlatL2(dimension)  # Using L2 distance for similarity search\n",
    "\n",
    "index.add(email_embeddings)"
   ]
  },
  {
   "cell_type": "code",
   "execution_count": null,
   "metadata": {
    "execution": {
     "iopub.execute_input": "2024-12-11T07:33:42.073235Z",
     "iopub.status.busy": "2024-12-11T07:33:42.072308Z",
     "iopub.status.idle": "2024-12-11T07:33:42.149416Z",
     "shell.execute_reply": "2024-12-11T07:33:42.148522Z",
     "shell.execute_reply.started": "2024-12-11T07:33:42.073196Z"
    },
    "trusted": true
   },
   "outputs": [],
   "source": [
    "query = \"Employee bad conduct\"\n",
    "query_embedding = model.encode([query]).astype('float32')\n",
    "\n",
    "k = 3  # Number of nearest neighbors to retrieve\n",
    "D, I = index.search(query_embedding, k)  # D: distances, I: indices of nearest neighbors\n",
    "\n",
    "# Retrieve results based on indices\n",
    "results = [email_dict[i] for i in I[0]]\n",
    "results"
   ]
  },
  {
   "cell_type": "markdown",
   "metadata": {},
   "source": [
    "# Hybridizing Results"
   ]
  },
  {
   "cell_type": "code",
   "execution_count": null,
   "metadata": {
    "execution": {
     "iopub.execute_input": "2024-12-11T07:36:59.275415Z",
     "iopub.status.busy": "2024-12-11T07:36:59.275071Z",
     "iopub.status.idle": "2024-12-11T07:36:59.287838Z",
     "shell.execute_reply": "2024-12-11T07:36:59.286853Z",
     "shell.execute_reply.started": "2024-12-11T07:36:59.275386Z"
    },
    "trusted": true
   },
   "outputs": [],
   "source": [
    "keyword_df = pd.DataFrame(top_3)\n",
    "keyword_df"
   ]
  },
  {
   "cell_type": "code",
   "execution_count": null,
   "metadata": {
    "execution": {
     "iopub.execute_input": "2024-12-11T07:35:42.256335Z",
     "iopub.status.busy": "2024-12-11T07:35:42.255995Z",
     "iopub.status.idle": "2024-12-11T07:35:42.277883Z",
     "shell.execute_reply": "2024-12-11T07:35:42.276782Z",
     "shell.execute_reply.started": "2024-12-11T07:35:42.256297Z"
    },
    "trusted": true
   },
   "outputs": [],
   "source": [
    "semantic_df = pd.DataFrame(results)\n",
    "semantic_df"
   ]
  },
  {
   "cell_type": "code",
   "execution_count": null,
   "metadata": {
    "execution": {
     "iopub.execute_input": "2024-12-11T07:39:50.894336Z",
     "iopub.status.busy": "2024-12-11T07:39:50.893484Z",
     "iopub.status.idle": "2024-12-11T07:39:50.901326Z",
     "shell.execute_reply": "2024-12-11T07:39:50.900388Z",
     "shell.execute_reply.started": "2024-12-11T07:39:50.894278Z"
    },
    "trusted": true
   },
   "outputs": [],
   "source": [
    "semantic_df.keys()"
   ]
  },
  {
   "cell_type": "code",
   "execution_count": null,
   "metadata": {
    "execution": {
     "iopub.execute_input": "2024-12-11T07:42:31.550516Z",
     "iopub.status.busy": "2024-12-11T07:42:31.550137Z",
     "iopub.status.idle": "2024-12-11T07:42:31.569612Z",
     "shell.execute_reply": "2024-12-11T07:42:31.568568Z",
     "shell.execute_reply.started": "2024-12-11T07:42:31.550481Z"
    },
    "trusted": true
   },
   "outputs": [],
   "source": [
    "hybrid_df = pd.concat([semantic_df, keyword_df], ignore_index=True).drop_duplicates()\n",
    "hybrid_df"
   ]
  },
  {
   "cell_type": "markdown",
   "metadata": {},
   "source": [
    "## Handling Email Chains"
   ]
  },
  {
   "cell_type": "code",
   "execution_count": null,
   "metadata": {
    "execution": {
     "iopub.execute_input": "2024-12-11T08:06:51.146671Z",
     "iopub.status.busy": "2024-12-11T08:06:51.146050Z",
     "iopub.status.idle": "2024-12-11T08:06:51.155981Z",
     "shell.execute_reply": "2024-12-11T08:06:51.154880Z",
     "shell.execute_reply.started": "2024-12-11T08:06:51.146638Z"
    },
    "trusted": true
   },
   "outputs": [],
   "source": [
    "import re\n",
    "from difflib import SequenceMatcher\n",
    "from typing import List, Dict, Any\n",
    "\n",
    "def clean_text(text: str) -> str:\n",
    "    \"\"\"\n",
    "    Remove extra whitespace and newlines from the given text.\n",
    "\n",
    "    Args:\n",
    "        text (str): The input text to be cleaned.\n",
    "\n",
    "    Returns:\n",
    "        str: The cleaned text with extra whitespace removed.\n",
    "    \"\"\"\n",
    "    return re.sub(r'\\s+', ' ', text).strip()\n",
    "\n",
    "def find_overlap(text1: str, text2: str) -> str:\n",
    "    \"\"\"\n",
    "    Find the longest common substring between two texts.\n",
    "\n",
    "    Args:\n",
    "        text1 (str): The first text to compare.\n",
    "        text2 (str): The second text to compare.\n",
    "\n",
    "    Returns:\n",
    "        str: The longest common substring, or an empty string if no overlap is found.\n",
    "    \"\"\"\n",
    "    matcher = SequenceMatcher(None, text1, text2)\n",
    "    match = matcher.find_longest_match(0, len(text1), 0, len(text2))\n",
    "    return text1[match.a: match.a + match.size] if match.size > 0 else \"\"\n",
    "\n",
    "def extract_unique_content(emails: List[Dict[str, Any]]) -> List[Dict[str, Any]]:\n",
    "    \"\"\"\n",
    "    Extract unique content from a list of email dictionaries by removing overlapping text.\n",
    "\n",
    "    This function processes a list of email dictionaries, removing any overlapping content\n",
    "    between emails to reduce redundancy. It preserves the original email structure and\n",
    "    metadata while modifying only the 'Mail_Body' field.\n",
    "\n",
    "    Args:\n",
    "        emails (List[Dict[str, Any]]): A list of dictionaries, each representing an email\n",
    "                                       with keys for 'Origin', 'Subject', 'To', 'From', 'Cc',\n",
    "                                       'Bcc', 'Date', 'Attachment_Count', and 'Mail_Body'.\n",
    "\n",
    "    Returns:\n",
    "        List[Dict[str, Any]]: A list of dictionaries with the same structure as the input,\n",
    "                              but with overlapping content removed from the 'Mail_Body' field.\n",
    "\n",
    "    Note:\n",
    "        This function assumes that emails are ordered chronologically, with newer emails\n",
    "        appearing later in the list.\n",
    "    \"\"\"\n",
    "    unique_contents = []\n",
    "    \n",
    "    for i, email in enumerate(emails):\n",
    "        current_email = clean_text(email['Mail_Body'])\n",
    "        unique_content = current_email\n",
    "\n",
    "        for j in range(i):\n",
    "            previous_email = clean_text(emails[j]['Mail_Body'])\n",
    "            overlap = find_overlap(previous_email, current_email)\n",
    "            \n",
    "            if len(overlap) > 10:\n",
    "                unique_content = unique_content.replace(overlap, \"\").strip()\n",
    "\n",
    "        unique_contents.append({\n",
    "            'Origin': email['Origin'],\n",
    "            'Subject': email['Subject'],\n",
    "            'To': email['To'],\n",
    "            'From': email['From'],\n",
    "            'Cc': email['Cc'],\n",
    "            'Bcc': email['Bcc'],\n",
    "            'Date': email['Date'],\n",
    "            'Attachment_Count': email['Attachment_Count'],\n",
    "            'Mail_Body': unique_content\n",
    "        })\n",
    "\n",
    "    return unique_contents"
   ]
  },
  {
   "cell_type": "code",
   "execution_count": null,
   "metadata": {
    "execution": {
     "iopub.execute_input": "2024-12-11T08:06:52.531240Z",
     "iopub.status.busy": "2024-12-11T08:06:52.530888Z",
     "iopub.status.idle": "2024-12-11T08:06:52.549307Z",
     "shell.execute_reply": "2024-12-11T08:06:52.548426Z",
     "shell.execute_reply.started": "2024-12-11T08:06:52.531210Z"
    },
    "trusted": true
   },
   "outputs": [],
   "source": [
    "print(len(str(extract_unique_content(hybrid_df.to_dict(orient=\"records\")))), len(str(hybrid_df.to_dict(orient=\"records\"))))"
   ]
  },
  {
   "cell_type": "code",
   "execution_count": null,
   "metadata": {
    "execution": {
     "iopub.execute_input": "2024-12-11T08:07:26.294832Z",
     "iopub.status.busy": "2024-12-11T08:07:26.294014Z",
     "iopub.status.idle": "2024-12-11T08:07:26.312941Z",
     "shell.execute_reply": "2024-12-11T08:07:26.312007Z",
     "shell.execute_reply.started": "2024-12-11T08:07:26.294797Z"
    },
    "trusted": true
   },
   "outputs": [],
   "source": [
    "hybrid_df_cleaned = extract_unique_content(hybrid_df.to_dict(orient=\"records\"))\n",
    "hybrid_df_cleaned"
   ]
  }
 ],
 "metadata": {
  "kaggle": {
   "accelerator": "nvidiaTeslaT4",
   "dataSources": [
    {
     "datasetId": 6277505,
     "sourceId": 10165501,
     "sourceType": "datasetVersion"
    }
   ],
   "dockerImageVersionId": 30805,
   "isGpuEnabled": true,
   "isInternetEnabled": true,
   "language": "python",
   "sourceType": "notebook"
  },
  "kernelspec": {
   "display_name": "Python 3",
   "language": "python",
   "name": "python3"
  },
  "language_info": {
   "codemirror_mode": {
    "name": "ipython",
    "version": 3
   },
   "file_extension": ".py",
   "mimetype": "text/x-python",
   "name": "python",
   "nbconvert_exporter": "python",
   "pygments_lexer": "ipython3",
   "version": "3.10.14"
  }
 },
 "nbformat": 4,
 "nbformat_minor": 4
}
