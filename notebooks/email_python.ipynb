{
 "cells": [
  {
   "cell_type": "code",
   "execution_count": 7,
   "metadata": {},
   "outputs": [],
   "source": [
    "import email\n",
    "from email import policy\n",
    "from email.parser import BytesParser\n",
    "import re\n",
    "\n",
    "def extract_email_fields(eml_file_path):\n",
    "    with open(eml_file_path, 'rb') as file:\n",
    "        mail = BytesParser(policy=policy.default).parse(file)\n",
    "        \n",
    "        # Initialize mail_body to an empty string\n",
    "        mail_body = \"\"\n",
    "        \n",
    "        # Attempt to get the plain text body first\n",
    "        try:\n",
    "            mail_body = mail.get_body(preferencelist=('plain')).get_content()\n",
    "        except AttributeError:\n",
    "            # If plain text body is not found, check for HTML or fallback\n",
    "            html_body = mail.get_body(preferencelist=('html'))\n",
    "            if html_body:\n",
    "                mail_body = re.sub(r'\\s+', ' ', re.sub( r\"<[^>]+>\", \"\", str(html_body.get_content()))).strip()\n",
    "            else:\n",
    "                # If no body is found, set to a default message\n",
    "                mail_body = \"No content available\"\n",
    "\n",
    "        # Convert the generator to a list to count attachments\n",
    "        attachment_count = sum(1 for _ in mail.iter_attachments())\n",
    "        \n",
    "        mail_dict = {\n",
    "            \"Subject\": mail.get(\"Subject\", \"No Subject Specified\"),\n",
    "            \"To\": mail.get(\"To\", \"No Recipients (Draft)\"),\n",
    "            \"From\": mail.get(\"From\", \"Error in Loading Origin\"),\n",
    "            \"Cc\": mail.get(\"Cc\", \"No mentions in CC\"),\n",
    "            \"Bcc\": mail.get(\"Bcc\", \"No mentions in BCC\"),\n",
    "            \"Date\": mail.get(\"Date\", \"Error parsing Date\"),\n",
    "            \"Reply_To\": mail.get(\"Reply-To\", \"\"),\n",
    "            \"Attachment_Count\": attachment_count,\n",
    "            \"Mail_Body\": mail_body,\n",
    "        }\n",
    "    \n",
    "    return mail_dict\n",
    "\n",
    "email_data = extract_email_fields('../data/Simulation/Set 1/Original format/Regarding Calling Data.eml')"
   ]
  },
  {
   "cell_type": "code",
   "execution_count": 8,
   "metadata": {},
   "outputs": [
    {
     "data": {
      "text/plain": [
       "{'Subject': 'Regarding Calling Data',\n",
       " 'To': 'pushpamupadhyay.bavdhan@shapoorji.com, Pushpamupadhyay Bavdhan <pushpamupadhyay.bavdhan@shapoorji.com>',\n",
       " 'From': 'amol yadav <amolyadav789@live.com>',\n",
       " 'Cc': 'No mentions in CC',\n",
       " 'Bcc': 'No mentions in BCC',\n",
       " 'Date': 'Sat, 03 Feb 2024 13:08:00 +0000',\n",
       " 'Reply_To': '',\n",
       " 'Attachment_Count': 1,\n",
       " 'Mail_Body': 'CAUTION: This email has originated outside of Shapoorji Pallonji. Do not click on any links or open any attachments, unless you recognize the sender and know the content is safe. Dear Sir, PFA Thanks &amp; Regards, Amol (Realty Networks) Get Outlook for Android'}"
      ]
     },
     "execution_count": 8,
     "metadata": {},
     "output_type": "execute_result"
    }
   ],
   "source": [
    "email_data"
   ]
  },
  {
   "cell_type": "code",
   "execution_count": null,
   "metadata": {},
   "outputs": [],
   "source": []
  }
 ],
 "metadata": {
  "kernelspec": {
   "display_name": "intella",
   "language": "python",
   "name": "python3"
  },
  "language_info": {
   "codemirror_mode": {
    "name": "ipython",
    "version": 3
   },
   "file_extension": ".py",
   "mimetype": "text/x-python",
   "name": "python",
   "nbconvert_exporter": "python",
   "pygments_lexer": "ipython3",
   "version": "3.12.8"
  }
 },
 "nbformat": 4,
 "nbformat_minor": 2
}
