{
 "cells": [
  {
   "cell_type": "markdown",
   "metadata": {},
   "source": [
    "# Loading Email\n",
    "Needs python >= 3.12"
   ]
  },
  {
   "cell_type": "code",
   "execution_count": 11,
   "metadata": {},
   "outputs": [],
   "source": [
    "from EMLMailReader import MailReader, RxMailMessage\n",
    "import json"
   ]
  },
  {
   "cell_type": "code",
   "execution_count": 7,
   "metadata": {},
   "outputs": [],
   "source": [
    "mail_reader = MailReader()\n",
    "message = mail_reader.get_email(\"./data/Simulation/Set 1/Original format/Behavioral and Disciplinary Concerns- Pushpam Updhyay.eml\")\n",
    "if isinstance(message, RxMailMessage):\n",
    "    mail = message.export_as_json()"
   ]
  },
  {
   "cell_type": "markdown",
   "metadata": {},
   "source": [
    "## Data Study\n",
    "Content outputs redacted for privacy"
   ]
  },
  {
   "cell_type": "code",
   "execution_count": null,
   "metadata": {},
   "outputs": [],
   "source": [
    "parsed_mail = json.loads(mail) # Dict\n",
    "parsed_mail"
   ]
  },
  {
   "cell_type": "code",
   "execution_count": 14,
   "metadata": {},
   "outputs": [
    {
     "data": {
      "text/plain": [
       "dict_keys(['From', 'Subject', 'Message-ID', 'IsMultiPart', 'Mime-Version', 'Date', 'Headers', 'Content-Type', 'To', 'Cc', 'Bcc', 'Reply-To', 'Attachment-Count'])"
      ]
     },
     "execution_count": 14,
     "metadata": {},
     "output_type": "execute_result"
    }
   ],
   "source": [
    "parsed_mail.keys()"
   ]
  },
  {
   "cell_type": "code",
   "execution_count": null,
   "metadata": {},
   "outputs": [],
   "source": [
    "parsed_mail[\"Subject\"]"
   ]
  },
  {
   "cell_type": "code",
   "execution_count": null,
   "metadata": {},
   "outputs": [],
   "source": [
    "message.Body # HTML Format"
   ]
  },
  {
   "cell_type": "markdown",
   "metadata": {},
   "source": [
    "## Parsing Mail Body"
   ]
  },
  {
   "cell_type": "code",
   "execution_count": 73,
   "metadata": {},
   "outputs": [],
   "source": [
    "from bs4 import BeautifulSoup\n",
    "import re\n",
    "soup = BeautifulSoup(message.Body, 'html.parser')"
   ]
  },
  {
   "cell_type": "code",
   "execution_count": null,
   "metadata": {},
   "outputs": [],
   "source": [
    "print(soup.prettify()) # Evaluating the structure"
   ]
  },
  {
   "cell_type": "code",
   "execution_count": 75,
   "metadata": {},
   "outputs": [],
   "source": [
    "accumalted_body = \"\"\n",
    "for contents in soup.findAll('p'):\n",
    "    accumalted_body += re.sub(r'[\\xa0]+', ' ', contents.getText())"
   ]
  },
  {
   "cell_type": "code",
   "execution_count": null,
   "metadata": {},
   "outputs": [],
   "source": [
    "print(accumalted_body) # String of Whole Mail"
   ]
  },
  {
   "cell_type": "code",
   "execution_count": 77,
   "metadata": {},
   "outputs": [],
   "source": [
    "processable_schema = {\n",
    "    \"Subject\": parsed_mail.get(\"Subject\", \"No Subject Specified\"),\n",
    "    \"To\": parsed_mail.get(\"To\", \"No Recipients (Draft)\"),\n",
    "    \"From\": parsed_mail.get(\"From\", \"Error in Loading Origin\"),\n",
    "    \"Cc\": parsed_mail.get(\"Cc\", \"No mentions in CC\"),\n",
    "    \"Bcc\": parsed_mail.get(\"Bcc\", \"No mentions in BCC\"),\n",
    "    \"Date\": parsed_mail.get(\"Date\", \"Error parsing Date\"),\n",
    "    \"Reply_To\": parsed_mail.get(\"Reply-To\", \"\"),\n",
    "    \"Attachment_Count\": parsed_mail.get(\"Attachment-Count\", 0),\n",
    "    \"Mail_Body\": accumalted_body\n",
    "}"
   ]
  },
  {
   "cell_type": "code",
   "execution_count": null,
   "metadata": {},
   "outputs": [],
   "source": [
    "processable_schema"
   ]
  }
 ],
 "metadata": {
  "kernelspec": {
   "display_name": "intella",
   "language": "python",
   "name": "python3"
  },
  "language_info": {
   "codemirror_mode": {
    "name": "ipython",
    "version": 3
   },
   "file_extension": ".py",
   "mimetype": "text/x-python",
   "name": "python",
   "nbconvert_exporter": "python",
   "pygments_lexer": "ipython3",
   "version": "3.12.8"
  }
 },
 "nbformat": 4,
 "nbformat_minor": 2
}
