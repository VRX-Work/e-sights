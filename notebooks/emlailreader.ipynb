{
 "cells": [
  {
   "cell_type": "markdown",
   "metadata": {},
   "source": [
    "# Loading Email\n",
    "Needs python >= 3.12"
   ]
  },
  {
   "cell_type": "code",
   "execution_count": 79,
   "metadata": {},
   "outputs": [],
   "source": [
    "from EMLMailReader import MailReader, RxMailMessage\n",
    "import json"
   ]
  },
  {
   "cell_type": "code",
   "execution_count": 80,
   "metadata": {},
   "outputs": [
    {
     "name": "stderr",
     "output_type": "stream",
     "text": [
      "ERROR:root:An error occurred while parsing entity body: 'ascii' codec can't decode byte 0x9a in position 15: ordinal not in range(128)\n"
     ]
    },
    {
     "name": "stdout",
     "output_type": "stream",
     "text": [
      "<EMLMailReader.Rx_Mail_Message.RxMailMessage object at 0x00000283A6E4D760>\n"
     ]
    }
   ],
   "source": [
    "mail_reader = MailReader()\n",
    "message = mail_reader.get_email(\"../data/Simulation/Set 1/Original format/Regarding Calling Data.eml\")\n",
    "print(message)\n",
    "if isinstance(message, RxMailMessage):\n",
    "    mail = message.export_as_json()"
   ]
  },
  {
   "cell_type": "markdown",
   "metadata": {},
   "source": [
    "## Data Study\n",
    "Content outputs redacted for privacy"
   ]
  },
  {
   "cell_type": "code",
   "execution_count": 81,
   "metadata": {},
   "outputs": [
    {
     "data": {
      "text/plain": [
       "{'From': 'amol yadav <amolyadav789@live.com>',\n",
       " 'Subject': 'Regarding Calling Data',\n",
       " 'Message-ID': '<AM7PR02MB62744699AA338380A42E82CBF1412@AM7PR02MB6274.eurprd02.prod.outlook.com>',\n",
       " 'IsMultiPart': True,\n",
       " 'Mime-Version': '1.0',\n",
       " 'Date': 'Sat, 3 Feb 2024 13:08:00 +0000',\n",
       " 'Headers': {'Received': 'from AM7PR02MB6274.eurprd02.prod.outlook.com([fe80::e4d:dd71:6048:88dd]) by AM7PR02MB6274.eurprd02.prod.outlook.com([fe80::e4d:dd71:6048:88dd%4]) with mapi id 15.20.7249.027; Sat, 3 Feb 202413:08:00 +0000',\n",
       "  'ARC-Seal': 'i=1; a=rsa-sha256; s=arcselector9901; d=microsoft.com; cv=none;b=TEo00vPKQXGBDHqUGSPd0JbwewkckzQ5Zg4AeN9U44XZNEAq7iE3IRu7J82MlcDqykLLMBWKJ2uh2lhHRnYQ+D0+s9QzetgNDc9sLkgFLRd2+zzVK4Qnif7AC4wB5FW6kuCz93KNrQ19kMV0oja7rSjU1PQIj2IYVRZPxNuDx+qTWFXGvUkSDx+gCJLqSZHYSgzusdhGW9e5JSLXW1PZG/sTtcHZ6kICW58d/TcCi2N/COhQx/+iJD6n5SsGtvFNKcxFQ+9cYxoyrotE4qI3aueyL4o4nH7M/tzeeOkvsBlBNwtXtclNHY0mnqFIdJkmP3wjZaYjuIySKZyhuGHwBQ==',\n",
       "  'ARC-Message-Signature': 'i=1; a=rsa-sha256; c=relaxed/relaxed; d=microsoft.com;s=arcselector9901;h=From:Date:Subject:Message-ID:Content-Type:MIME-Version:X-MS-Exchange-AntiSpam-MessageData-ChunkCount:X-MS-Exchange-AntiSpam-MessageData-0:X-MS-Exchange-AntiSpam-MessageData-1;bh=fIJh5GctLXY1y9XOb2z+96VxcA8xQqJm+0WZqfauTjE=;b=YdR+hgUIHsx58On/iz54A6YabPlBEVkDQrOft7VcX93dgy8ZKG32cR7FQQ/bJnok+4XcIV9ltFasHbIeH9INGbVmeWIx6S20K0uizrcUxEVMJ62cN152tj4qHvNiNfBl9ZQQf7MpKlb/Wi20Ln9VmpKskHp7MOFq1tuSrd9sWYrCUB80roBwbqXcfAfLlMSsTHTI/fZryq/272I4p4mMUGIlD/rVuRLCvv9siQcakRc4EZCBPkp9ZY6SW9Pa4+zcHwBT+M/3znyBCB+Cj+7jpwa8encJQNUEqn80qKGhbn92I35oGd1MSIlWfQTjcrcZB6PrlJ0q9Op21WdOo9Itzg==',\n",
       "  'ARC-Authentication-Results': 'i=1; mx.microsoft.com 1; spf=none; dmarc=none;dkim=none; arc=none',\n",
       "  'Authentication-Results': 'spf=softfail (sender IP is 121.240.11.51)smtp.mailfrom=live.com; dkim=pass (signature was verified)header.d=live.com;dmarc=pass action=none header.from=live.com;compauth=passreason=100',\n",
       "  'Received-SPF': 'Pass (tblr2.logix.in: domain ofamolyadav789@live.com designates 40.92.73.49 as permittedsender) identity=mailfrom; client-ip=40.92.73.49;receiver=tblr2.logix.in;envelope-from=\"amolyadav789@live.com\";x-sender=\"amolyadav789@live.com\"; x-conformance=spf_only;x-record-type=\"v=spf1\"; x-record-text=\"v=spf1ip4:52.103.0.0/17 ip4:104.47.0.0/17 ip4:40.92.0.0/16ip4:104.47.20.0/23 ip4:104.47.108.0/23 ip4:104.47.75.0/24ip4:104.47.53.50/24 ip6:2a01:111:f400::/48ip6:2a01:111:f403::/49 ip6:2a01:111:f403:8000::/50ip6:2a01:111:f403:c000::/51 ip6:2a01:111:f403:f000::/52 -all\"',\n",
       "  'Delivered-To': 'CLUSTERHOST vdvm34.logix.local pushpamupadhyay.bavdhan@shapoorji.com',\n",
       "  'X-Qmail-Scanner-Diagnostics': 'from 192.168.9.76 by vdvm34.logix.local (envelope-from <amolyadav789@live.com>, uid 1001) with qmail-scanner-2.11(Clear:RC:1(192.168.9.76):SA:0(IronPort):.Processed in 0.046904 secs); 03 Feb 2024 13:08:09 -0000',\n",
       "  'Authentication-Results-Original': 'tblr2.logix.in; spf=Passsmtp.mailfrom=amolyadav789@live.com; dkim=pass (signature verified)header.i=@live.com; dmarc=pass (p=none dis=none) d=live.com',\n",
       "  'IronPort-SDR': '65be3ab7_5hZVI73ZzjCZfbdwdPq6aoo87fQv/fni5nLKQ14lyHQ+3ShEwE2XSxtq+3wn50nZ33Rfey0sAQtAB5nEkmZMBA==',\n",
       "  'X-ORIGINAL-IP': '40.92.73.49',\n",
       "  'X-ORIGINAL-TIME': '03 Feb 2024 18:38:08 +0530',\n",
       "  'x-rcpt-to': 'pushpamupadhyay.bavdhan@shapoorji.com',\n",
       "  'IronPort-Data': 'A9a23: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',\n",
       "  'IronPort-HdrOrdr': 'A9a23:2TsZwKEerY9yD6qepLqEhseALOsnbusQ8zAXPidKKCC9E/b3qynAppgmPHPP4gr5O0tKpTnoAsDpfZq2z/FICOcqUIufYA==',\n",
       "  'X-Talos-CUID': '9a23:01AA7GzR/Yd2Uud7p25tBgUtEIcmKkPGwk6KeWboLztDVae3aAGprfY=',\n",
       "  'X-Talos-MUID': '9a23:Bt/KzQRpE+hpPXlgRXTPhBZ8E+F5z56MGUFVq640kPeJFSFvbmI=',\n",
       "  'X-IronPort-Anti-Spam-Filtered': 'true',\n",
       "  'X-IronPort-AV': 'E=Sophos;i=\"6.05,240,1701109800\";d=\"xml\\'?bin\\'?scan\\'208,217,72,48?xlsx\\'208,217,72,48,72,48?rels\\'208,217,72,48,72,48\";a=\"275941761\"',\n",
       "  'X-Amp-Result': 'LOWRISK',\n",
       "  'X-Amp-File-Uploaded': 'False',\n",
       "  'X-IronPort-Anti-Spam-Scanned': 'true',\n",
       "  'DKIM-Signature': 'v=1; a=rsa-sha256; c=relaxed/relaxed; d=live.com; s=selector1;h=From:Date:Subject:Message-ID:Content-Type:MIME-Version:X-MS-Exchange-SenderADCheck;bh=fIJh5GctLXY1y9XOb2z+96VxcA8xQqJm+0WZqfauTjE=;b=qA2dJYAn5Lox6xurhfmPmrJh8vQtW/vzpf7M78iqUGLNSO7YN+qYuhDlnalyPmzSQ+8Q4+RLh6VMB2Bl1+vtOh9A5AjE+ukiw8R1VeAYYVcSoQSn69T+h2ZfaWpfPi6+WapS+MdMSOwSinzFv3vJ4HqsTsvn1OlaPnO+jpxHHeEimlRSqBug1yr2E2TDuYNDCnVVj2NcHAfNb6u1BkEsd/PvMp9JT8iv69ABTIWc6Z9zhg2l5EiBiD1kMiRgHvKpEjm8j1YLIyKMWVlK0vwVcy9gbNIyWuTSDF48tFgoJcdZjZw1JFLORWsttiq30hCARze6NocMzPBqUhSLp8q1rQ==',\n",
       "  'Thread-Topic': 'Regarding Calling Data',\n",
       "  'Thread-Index': 'AQHaVp+RwnTqhF9uL0uvsimSNIzQmw==',\n",
       "  'Accept-Language': 'en-GB, en-US',\n",
       "  'Content-Language': 'en-GB',\n",
       "  'X-MS-Has-Attach': 'yes',\n",
       "  'X-MS-TNEF-Correlator': '',\n",
       "  'x-tmn': '[ch78assjJMtVw4fDqlDgzsreifmqsz0u]',\n",
       "  'x-ms-traffictypediagnostic': 'AM7PR02MB6274:EE_|DB9PR02MB6572:EE_|SG1PEPF000082E5:EE_|MA0P287MB1451:EE_|MA0P287MB1996:EE_',\n",
       "  'X-MS-Office365-Filtering-Correlation-Id': '64373972-3ce8-4608-e348-08dc24b92c23',\n",
       "  'x-ms-exchange-slblob-mailprops': 'VTa9p188PROwi4TjgkGT7zi40NamebOqoP8T2VkTgyhsMZe5GlBjEW6thmp7kdmSTePe0+/xgviU3wSx7+j47YkiitIlUxgAVz1XyrTclhNHW9/q9UcCJlGCged0bhPnmSkAWKWIuPXo/o6o0ofpH8eWtnhzXEEllD7iXld1dXTWn9MXR1D82rG2/GS74A8lnw/zCIqhXUkkRN18jeMWjAM2M/KDvjdWgqPlm+11DlCfzTLA91NwCH0gbzmEdkc69sw98BsnIj6Uf0SYaeeCL/lRxSUGqfNyCf0NSOvK7UJ+cuGsLVcSyFiefNpGkdCJyzOJXqZEXR67GHAswLBKz++MVCu9zVDjPl/RvyKj21AqTb5cuBWTpqEficIQDI+pFCh2Rwg7lcCYckCjB74vEuz6wDfelLyWql4lQEX26F6LiatbI1He4ijvOHi6RsyErpuqOJSolcrvIHM01r3i2qqt1NVyIeoL/2bcK5KjQCf3yHIhtfPzlVGFr0j/22RG4vhUf3/Ht8x+hh1yMs18r28bjvmkRDB90ZM/hcvEAH86hEDjfee/0rtg+XIU38JISA0tamXqjwRRdBclRI/498z7aWVcHG86qhs7JPvXqkCmYRATt/mEeMnGHxqdcbio',\n",
       "  'X-Microsoft-Antispam-Untrusted': 'BCL:0;',\n",
       "  'X-Microsoft-Antispam-Message-Info-Original': 'uafiv1Zq/9wBShl5BUsOuBhsreXNFL0Rxw4hyvwauh7+vXGWu2N4rqU6LSUtATHYYOzM5+Y/cmrTuTKpcFCwu9IYV6P/sNSq79FowuK8car0UrWp/oP57IXNAdFg//2f0k1eLYsuMDj2GAbzK1mt6zdLcpTzwtII0XSuTqtxEupnkoYwIYsEEWPLmKrDMHfPsSByr81PrHXhQ8QETDm1nwrJX6NbSS9mbvrnsccP9/Jjc7whD2l4315ZIuru0R/awsYLTWcMiBoQXRxpt0iHFeEbfpJDnwl+Lu14Lt55fWluGAJjgK3zaja14mrqBliqSHWiMpTtiDrjNbMPpZ8A6niL+1xcrG4lKz6x8clf1ZUIBCssPyz68mSfFc17y/mC0Z0lQ2hBhhMEEELc9ZfOAyTLtZnhWqKWWeg3bwxyFzJV7b0upbR1Vbd5gFt57cLJhcn0KlUXxEq2VtvKSWs+QR4Uje8yeI4531NJxfnHBOjxGMeEtWaqsg0klsm9X9BgXsIfxGU/cjkw9/J/RcZJOgX7jFVUaNrF1vtt0Wp9Fiw=',\n",
       "  'X-MS-Exchange-AntiSpam-MessageData-Original-ChunkCount': '1',\n",
       "  'X-MS-Exchange-AntiSpam-MessageData-Original-0': 'AThMHtF4J3gVnHkzd5oG4J9+xu6lZGt5P1CZeC2c+sUiASQMzf0yGmYdFPYrDqain25huqYPKpXvF4ILr2IkgfEhkYcZ8GN+NlzZwBx88/DQlJ5dMGFfGL1jT05NCE8P5JMhhmS1K3sbv23j0yeHAo8PaJDnERyjK8IOsVqG1TOvBuReYD1+wsWfWM1Uu96YYRaJhB9UPtQSz1v04kuJdFFl23EJW+jEIenGaC0ozElZuUtAXh704HkQBnkzVarZ4/Hy0EMqbL5MhMawBl8n2GtC4MkY+gJhO7RifLaworzGA/VD09vgBHPtGpMFK1W8qGNh1unbJpIMxPXSJ4k/zm+uw64i6BCSz3zPooy2iHoZo2cNun9ZnVtJUAPrzFOHif8tH/N5roVVYv/zk3NF216+O7TDMRu/01wB1Zw7XdUNCsI7OHU3wjQuRTIRnyljUJ4ySSHuXB0vTiTXLINNccmxCQ8JZ3nmUGKbaxhT2srBpFx2Pq7wjh48+hatED0/F2kENhvFzxfvOscxFvmMh9AuZeBG+0TdD/6mFpFpEH3GmaMBRMSqZAMPuebSqe9BY0ae3bbwYNW8jqJFSD9WZq+QeQTrh6bwdPvvp63qKW/gnZDsUOBANGUpDtAxIZ6z5alazWcKaF/oCQH+emPlcbhBPxXYCe//JF9WCBvz1i4j1IbOTEKSG62klXmXoltvLGDTr7QGvy+hpI1h4jCrlc/Fh5QzNEq55gPaHs/iuCaS52rAohUl460IVhBUx3BJ8ccFudM8ykjRJa1CLYJjrQRZ3BkVvKhXSwfpzdRwPPK2/o1w7StxIISUuQ5PE0unctaTjwp8k7Lo/Lm4wQlfKczw0S1K62ghekYz3UGrtBMZWICt/UkmJeVF0mDQQUcYWAe/IstsWzpMTZ3qx66EGrloqm8c3rGK92EBOICEkc9PsIcb1Ve0u0jYjciztznlmrEBPWiYe2lIV2PildxrXcEwByvuq9cAKlWJsJNNrroESopFOJEWmHwjVtu9lVb8ioaeR3+NyRipDix9/Se+ZnAQOTmDfT/ynyGOfywKO/BGtunJZnrTtVtX6HZnNxhpU4A1OMMch2bYEvw4jyeXWs5ENlLWAWiOvpFqWLEKnnBVuLohj+eZESSbBPkzR0Tn3YNJLq0u3/wwBkuKqE3xH8sPcKpzj9YA17w/vNgD3xQB/0e7BMn6lgYXbLJFIu2V2mSbk+waQuh8NrEiugyMN/nCRcExOqOpsw5uaX9RzNA=',\n",
       "  'X-MS-Exchange-Transport-CrossTenantHeadersStamped': 'MA0P287MB1451',\n",
       "  'Return-Path': 'amolyadav789@live.com',\n",
       "  'X-MS-Exchange-Organization-ExpirationStartTime': '03 Feb 2024 13:08:10.7866(UTC)',\n",
       "  'X-MS-Exchange-Organization-ExpirationStartTimeReason': 'OriginalSubmit',\n",
       "  'X-MS-Exchange-Organization-ExpirationInterval': '1:00:00:00.0000000',\n",
       "  'X-MS-Exchange-Organization-ExpirationIntervalReason': 'OriginalSubmit',\n",
       "  'X-MS-Exchange-Organization-Network-Message-Id': '64373972-3ce8-4608-e348-08dc24b92c23',\n",
       "  'X-EOPAttributedMessage': '0',\n",
       "  'X-EOPTenantAttributedMessage': '144bc3d6-4657-4cf6-b6f0-901cdeb373a7:0',\n",
       "  'X-MS-Exchange-Organization-MessageDirectionality': 'Incoming',\n",
       "  'X-MS-Exchange-Transport-CrossTenantHeadersStripped': 'SG1PEPF000082E5.apcprd02.prod.outlook.com',\n",
       "  'X-MS-PublicTrafficType': 'Email',\n",
       "  'X-MS-Exchange-Organization-AuthSource': 'SG1PEPF000082E5.apcprd02.prod.outlook.com',\n",
       "  'X-MS-Exchange-Organization-AuthAs': 'Anonymous',\n",
       "  'X-MS-Office365-Filtering-Correlation-Id-Prvs': '8f593103-03ab-43b7-c0b1-08dc24b92645',\n",
       "  'X-MS-Exchange-Organization-SCL': '-1',\n",
       "  'X-Microsoft-Antispam': 'BCL:0;',\n",
       "  'X-Forefront-Antispam-Report': 'CIP:121.240.11.51;CTRY:IN;LANG:en;SCL:-1;SRV:;IPV:CAL;SFV:NSPM;H:tblr51.logix.in;PTR:tblr51.logix.in;CAT:NONE;SFS:;DIR:INB;',\n",
       "  'X-MS-Exchange-CrossTenant-OriginalArrivalTime': '03 Feb 2024 13:08:10.5054(UTC)',\n",
       "  'X-MS-Exchange-CrossTenant-Network-Message-Id': '64373972-3ce8-4608-e348-08dc24b92c23',\n",
       "  'X-MS-Exchange-CrossTenant-Id': '144bc3d6-4657-4cf6-b6f0-901cdeb373a7',\n",
       "  'X-MS-Exchange-CrossTenant-AuthSource': 'SG1PEPF000082E5.apcprd02.prod.outlook.com',\n",
       "  'X-MS-Exchange-CrossTenant-AuthAs': 'Anonymous',\n",
       "  'X-MS-Exchange-CrossTenant-FromEntityHeader': 'Internet',\n",
       "  'X-MS-Exchange-Transport-EndToEndLatency': '00:00:05.4287237',\n",
       "  'X-MS-Exchange-Processed-By-BccFoldering': '15.20.7270.009',\n",
       "  'X-Microsoft-Antispam-Mailbox-Delivery': 'ucf:0;jmr:0;auth:0;dest:I;ENG:(910001)(944506478)(944626604)(920097)(930097)(140003);',\n",
       "  'X-Microsoft-Antispam-Message-Info': '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'},\n",
       " 'Content-Type': 'multipart/mixed; charset=us-ascii',\n",
       " 'To': 'pushpamupadhyay.bavdhan@shapoorji.com;Pushpamupadhyay Bavdhan <pushpamupadhyay.bavdhan@shapoorji.com>',\n",
       " 'Cc': '',\n",
       " 'Bcc': '',\n",
       " 'Reply-To': '',\n",
       " 'Attachment-Count': 0}"
      ]
     },
     "execution_count": 81,
     "metadata": {},
     "output_type": "execute_result"
    }
   ],
   "source": [
    "parsed_mail = json.loads(mail) # Dict\n",
    "parsed_mail"
   ]
  },
  {
   "cell_type": "code",
   "execution_count": 83,
   "metadata": {},
   "outputs": [
    {
     "data": {
      "text/plain": [
       "''"
      ]
     },
     "execution_count": 83,
     "metadata": {},
     "output_type": "execute_result"
    }
   ],
   "source": [
    "message.Body"
   ]
  },
  {
   "cell_type": "code",
   "execution_count": 77,
   "metadata": {},
   "outputs": [
    {
     "data": {
      "text/plain": [
       "dict_keys(['From', 'Subject', 'Message-ID', 'IsMultiPart', 'Mime-Version', 'Date', 'Headers', 'Content-Type', 'To', 'Cc', 'Bcc', 'Reply-To', 'Attachment-Count'])"
      ]
     },
     "execution_count": 77,
     "metadata": {},
     "output_type": "execute_result"
    }
   ],
   "source": [
    "parsed_mail.keys()"
   ]
  },
  {
   "cell_type": "code",
   "execution_count": 78,
   "metadata": {},
   "outputs": [
    {
     "data": {
      "text/plain": [
       "'Regarding Calling Data'"
      ]
     },
     "execution_count": 78,
     "metadata": {},
     "output_type": "execute_result"
    }
   ],
   "source": [
    "parsed_mail[\"Subject\"]"
   ]
  },
  {
   "cell_type": "code",
   "execution_count": 60,
   "metadata": {},
   "outputs": [
    {
     "data": {
      "text/plain": [
       "''"
      ]
     },
     "execution_count": 60,
     "metadata": {},
     "output_type": "execute_result"
    }
   ],
   "source": [
    "message.Body # HTML Format"
   ]
  },
  {
   "cell_type": "markdown",
   "metadata": {},
   "source": [
    "## Parsing Mail Body"
   ]
  },
  {
   "cell_type": "code",
   "execution_count": 61,
   "metadata": {},
   "outputs": [],
   "source": [
    "from bs4 import BeautifulSoup\n",
    "import re\n",
    "soup = BeautifulSoup(message.Body, 'html.parser')"
   ]
  },
  {
   "cell_type": "code",
   "execution_count": 62,
   "metadata": {},
   "outputs": [
    {
     "name": "stdout",
     "output_type": "stream",
     "text": [
      "\n"
     ]
    }
   ],
   "source": [
    "print(str(soup)) # Evaluating the structure"
   ]
  },
  {
   "cell_type": "code",
   "execution_count": 63,
   "metadata": {},
   "outputs": [],
   "source": [
    "accumalted_body = re.sub(r'\\s+', ' ', re.sub( r\"<[^>]+>\", \"\", str(soup))).strip()"
   ]
  },
  {
   "cell_type": "code",
   "execution_count": 64,
   "metadata": {},
   "outputs": [
    {
     "name": "stdout",
     "output_type": "stream",
     "text": [
      "\n"
     ]
    }
   ],
   "source": [
    "print(accumalted_body) # String of Whole Mail"
   ]
  },
  {
   "cell_type": "code",
   "execution_count": 65,
   "metadata": {},
   "outputs": [],
   "source": [
    "processable_schema = {\n",
    "    \"Subject\": parsed_mail.get(\"Subject\", \"No Subject Specified\"),\n",
    "    \"To\": parsed_mail.get(\"To\", \"No Recipients (Draft)\"),\n",
    "    \"From\": parsed_mail.get(\"From\", \"Error in Loading Origin\"),\n",
    "    \"Cc\": parsed_mail.get(\"Cc\", \"No mentions in CC\"),\n",
    "    \"Bcc\": parsed_mail.get(\"Bcc\", \"No mentions in BCC\"),\n",
    "    \"Date\": parsed_mail.get(\"Date\", \"Error parsing Date\"),\n",
    "    \"Reply_To\": parsed_mail.get(\"Reply-To\", \"\"),\n",
    "    \"Attachment_Count\": parsed_mail.get(\"Attachment-Count\", 0),\n",
    "    \"Mail_Body\": accumalted_body\n",
    "}"
   ]
  },
  {
   "cell_type": "code",
   "execution_count": 66,
   "metadata": {},
   "outputs": [
    {
     "data": {
      "text/plain": [
       "{'Subject': 'Regarding Non-Compliance with Attendance Procedures',\n",
       " 'To': 'Pushpamupadhyay Bavdhan <pushpamupadhyay.bavdhan@shapoorji.com>',\n",
       " 'From': 'admin bavdhan <admin.bavdhan@shapoorji.com>',\n",
       " 'Cc': 'Arun Shende <Arun.Shende@shapoorji.com>;nitin.valechha <nitin.valechha@shapoorji.com>',\n",
       " 'Bcc': '',\n",
       " 'Date': 'Wed, 21 Feb 2024 07:59:52 +0000',\n",
       " 'Reply_To': '',\n",
       " 'Attachment_Count': 0,\n",
       " 'Mail_Body': ''}"
      ]
     },
     "execution_count": 66,
     "metadata": {},
     "output_type": "execute_result"
    }
   ],
   "source": [
    "processable_schema"
   ]
  }
 ],
 "metadata": {
  "kernelspec": {
   "display_name": "intella",
   "language": "python",
   "name": "python3"
  },
  "language_info": {
   "codemirror_mode": {
    "name": "ipython",
    "version": 3
   },
   "file_extension": ".py",
   "mimetype": "text/x-python",
   "name": "python",
   "nbconvert_exporter": "python",
   "pygments_lexer": "ipython3",
   "version": "3.12.8"
  }
 },
 "nbformat": 4,
 "nbformat_minor": 2
}
